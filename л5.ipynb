{
  "nbformat": 4,
  "nbformat_minor": 0,
  "metadata": {
    "colab": {
      "provenance": [],
      "authorship_tag": "ABX9TyNi8Z2aM66k3oFZVQ0Q61RU",
      "include_colab_link": true
    },
    "kernelspec": {
      "name": "python3",
      "display_name": "Python 3"
    },
    "language_info": {
      "name": "python"
    }
  },
  "cells": [
    {
      "cell_type": "markdown",
      "metadata": {
        "id": "view-in-github",
        "colab_type": "text"
      },
      "source": [
        "<a href=\"https://colab.research.google.com/github/soldkin/AI_in_PD/blob/main/%D0%BB5.ipynb\" target=\"_parent\"><img src=\"https://colab.research.google.com/assets/colab-badge.svg\" alt=\"Open In Colab\"/></a>"
      ]
    },
    {
      "cell_type": "markdown",
      "source": [
        "# Практическая работа 5. Объектно-ориентированное программирование"
      ],
      "metadata": {
        "id": "C3DZeo7xi2HL"
      }
    },
    {
      "cell_type": "markdown",
      "source": [
        "Выполнил Солдаткин А. А.\n",
        "Группа ПИН-б-о-22-1"
      ],
      "metadata": {
        "id": "verMgvWKiEbU"
      }
    },
    {
      "cell_type": "markdown",
      "source": [
        "## Задание"
      ],
      "metadata": {
        "id": "8wIyzax9q7JF"
      }
    },
    {
      "cell_type": "markdown",
      "source": [
        "Класс «Отрезок в пространстве». Реализовать ввод и вывод полей\n",
        "данных (координаты начала и координаты конца отрезка),\n",
        "вычисление длины, расстояний начала и конца отрезка от начала\n",
        "координат, а также вывод информации об объекте."
      ],
      "metadata": {
        "id": "7ivrHDd_1YY1"
      }
    },
    {
      "cell_type": "markdown",
      "source": [
        "## Решение"
      ],
      "metadata": {
        "id": "nvkT7lVbGG_l"
      }
    },
    {
      "cell_type": "code",
      "source": [
        "import math\n",
        "\n",
        "class Segment:\n",
        "    def __init__(self, start, end):\n",
        "        self.start = start  # Координаты начала отрезка (tuple)\n",
        "        self.end = end      # Координаты конца отрезка (tuple)\n",
        "\n",
        "    def length(self):\n",
        "        \"\"\"Вычисляет длину отрезка.\"\"\"\n",
        "        return math.sqrt(sum((e - s) ** 2 for s, e in zip(self.start, self.end)))\n",
        "\n",
        "    def distance_from_origin(self, point):\n",
        "        \"\"\"Вычисляет расстояние от заданной точки до начала отрезка.\"\"\"\n",
        "        return math.sqrt(sum(coord ** 2 for coord in point))\n",
        "\n",
        "    def info(self):\n",
        "        \"\"\"Выводит информацию об отрезке.\"\"\"\n",
        "        print(f\"Начало отрезка: {self.start}\")\n",
        "        print(f\"Конец отрезка: {self.end}\")\n",
        "        print(f\"Длина отрезка: {self.length():.2f}\")\n",
        "        print(f\"Расстояние от начала координат до начала отрезка: {self.distance_from_origin(self.start):.2f}\")\n",
        "        print(f\"Расстояние от начала координат до конца отрезка: {self.distance_from_origin(self.end):.2f}\")\n",
        "\n",
        "# Пример использования\n",
        "if __name__ == \"__main__\":\n",
        "    # Ввод координат отрезка\n",
        "    start = tuple(map(float, input(\"Введите координаты начала отрезка (x1, y1, z1): \").split(',')))\n",
        "    end = tuple(map(float, input(\"Введите координаты конца отрезка (x2, y2, z2): \").split(',')))\n",
        "\n",
        "    segment = Segment(start, end)\n",
        "    segment.info()"
      ],
      "metadata": {
        "colab": {
          "base_uri": "https://localhost:8080/"
        },
        "id": "HAjEQ7Af1d2U",
        "outputId": "c4d66aee-8b70-43e3-ef67-a229454290e3"
      },
      "execution_count": 10,
      "outputs": [
        {
          "output_type": "stream",
          "name": "stdout",
          "text": [
            "Введите координаты начала отрезка (x1, y1, z1): 0\n",
            "Введите координаты конца отрезка (x2, y2, z2): 5\n",
            "Начало отрезка: (0.0,)\n",
            "Конец отрезка: (5.0,)\n",
            "Длина отрезка: 5.00\n",
            "Расстояние от начала координат до начала отрезка: 0.00\n",
            "Расстояние от начала координат до конца отрезка: 5.00\n"
          ]
        }
      ]
    },
    {
      "cell_type": "markdown",
      "source": [
        "Контрольные вопросы"
      ],
      "metadata": {
        "id": "N0BSKd_1m91y"
      }
    },
    {
      "cell_type": "markdown",
      "source": [
        "1. Дайте определение понятию класс.\n",
        "Класс — шаблон, с помощью которого удобно описывать однотипные объекты.\n",
        "2. Продемонстрируйте использование метода __init__. Поясните назначение\n",
        "данного метода.\n",
        "Конструкторы используются для инициализации объектов класса. Их задача заключается в присваивании значений членам класса.\n",
        "3. Поясните назначение статических методов и их отличия от методов класса.\n",
        "В отличие от обычных методов, статический метод не принимает первым аргументом self . Таким образом, статические методы в Python — это методы, которые принадлежат классу, а не его экземпляру, и работают только с теми аргументами, которые им передаются.\n",
        "4. Для чего используется параметр self в каждом методе класса?\n",
        "self в Python - это не метод, а специальный параметр, который передается первым аргументом в метод класса и представляет собой ссылку на экземпляр класса. Он используется для доступа к атрибутам и методам экземпляра из методов класса.\n",
        "5. Сколько методов __init__ может быть объявлено внутри класса?\n",
        "1"
      ],
      "metadata": {
        "id": "NtL4-fJ_gwdX"
      }
    }
  ]
}