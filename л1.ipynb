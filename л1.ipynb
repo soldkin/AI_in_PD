{
  "nbformat": 4,
  "nbformat_minor": 0,
  "metadata": {
    "colab": {
      "provenance": [],
      "authorship_tag": "ABX9TyM3IgA5CXqaHX1ho+J3RhCD",
      "include_colab_link": true
    },
    "kernelspec": {
      "name": "python3",
      "display_name": "Python 3"
    },
    "language_info": {
      "name": "python"
    }
  },
  "cells": [
    {
      "cell_type": "markdown",
      "metadata": {
        "id": "view-in-github",
        "colab_type": "text"
      },
      "source": [
        "<a href=\"https://colab.research.google.com/github/soldkin/AI_in_PD/blob/main/%D0%BB1.ipynb\" target=\"_parent\"><img src=\"https://colab.research.google.com/assets/colab-badge.svg\" alt=\"Open In Colab\"/></a>"
      ]
    },
    {
      "cell_type": "markdown",
      "source": [
        "# Практическая работа 1.\n",
        "Простейший скрипт Python"
      ],
      "metadata": {
        "id": "C3DZeo7xi2HL"
      }
    },
    {
      "cell_type": "markdown",
      "source": [
        "Выполнил Солдаткин Александр\n",
        "Группа ПИН-б-о-22-1"
      ],
      "metadata": {
        "id": "LnXkFFpXDc12"
      }
    },
    {
      "cell_type": "markdown",
      "source": [
        "## Задание"
      ],
      "metadata": {
        "id": "8wIyzax9q7JF"
      }
    },
    {
      "cell_type": "markdown",
      "source": [
        "Необходимо вычислить значение выражения:\n",
        "$$U = rx * z + z * Y- \\frac{Y + z}{rx}$$\n",
        "Для каждой переменной необходимо вывести ее значение и тип."
      ],
      "metadata": {
        "id": "A1UMdzQGjFix"
      }
    },
    {
      "cell_type": "markdown",
      "source": [
        "## Анализ выражения и определение переменных"
      ],
      "metadata": {
        "id": "RGlwZaXQrAfd"
      }
    },
    {
      "cell_type": "markdown",
      "source": [
        "Проанализируем выражение и определим переменные, которые потребуются для выполнения задания. Независимые переменные: $rx, z, Y$. Переменная, которая должна быть вычислена на основе независимых: $U$."
      ],
      "metadata": {
        "id": "dusmGf0PoHeU"
      }
    },
    {
      "cell_type": "code",
      "execution_count": 1,
      "metadata": {
        "id": "GRcewQyGh7dD",
        "colab": {
          "base_uri": "https://localhost:8080/"
        },
        "outputId": "a9eea8a8-70a8-45d0-923f-2a7f83c0f4f0"
      },
      "outputs": [
        {
          "output_type": "stream",
          "name": "stdout",
          "text": [
            "rx =  10 , type(rx) =  <class 'int'>\n",
            "z =  30.67 , type(z) =  <class 'float'>\n",
            "Y =  5 , type(Y) =  <class 'int'>\n"
          ]
        }
      ],
      "source": [
        "rx=10\n",
        "z=30.67\n",
        "Y=5\n",
        "print(\"rx = \", rx, \", type(rx) = \", type(rx))\n",
        "print(\"z = \", z, \", type(z) = \", type(z))\n",
        "print(\"Y = \", Y, \", type(Y) = \", type(Y))"
      ]
    },
    {
      "cell_type": "markdown",
      "source": [
        "## Вычисление выражение, печать результатов"
      ],
      "metadata": {
        "id": "JCG1FflCrJRE"
      }
    },
    {
      "cell_type": "markdown",
      "source": [
        "Код для вычисления значения выражения $U$:"
      ],
      "metadata": {
        "id": "9ky-Ji8ppVb9"
      }
    },
    {
      "cell_type": "code",
      "source": [
        "U=rx*z+z+Y-(Y+z)/rx\n",
        "print('U=',U)\n",
        "print('Type of U: ', type(U))"
      ],
      "metadata": {
        "colab": {
          "base_uri": "https://localhost:8080/"
        },
        "id": "v5SpmCokphuJ",
        "outputId": "1839127b-e3a2-4972-c4b6-eadbaf554354"
      },
      "execution_count": 2,
      "outputs": [
        {
          "output_type": "stream",
          "name": "stdout",
          "text": [
            "U= 338.80300000000005\n",
            "Type of U:  <class 'float'>\n"
          ]
        }
      ]
    },
    {
      "cell_type": "markdown",
      "source": [
        "Основные функции, используемые в данной практической работе: `print(), type(), abs()`"
      ],
      "metadata": {
        "id": "QgydWXtBqRUl"
      }
    },
    {
      "cell_type": "markdown",
      "source": [
        "1. Чем отличается интерпретируемый язык программирования от\n",
        "компилируемого?\n",
        " Интерпретируемые языки выполняются построчно интерпретатором, тогда как компилируемые языки сначала компилируются в машинный код, а затем выполняются\n",
        "2. Перечислите компилируемые языки программирования.\n",
        "C, С++, Java, Swift, Go\n",
        "3. Перечислите интерпретируемые языки программирования.\n",
        "JavaScript, PHP, Python\n",
        "4. Как объявляется переменные в языке Python?\n",
        "5. Каким образом определить тип переменной в языке Python?\n",
        " достаточно написать имя переменной, знак «=» и значение переменной\n",
        "6. Для чего используется функция print( ) ?\n",
        " выводит на экран данные\n",
        "7. Какая функция предназначена для вычисления модуля в Python? Какую\n",
        "библиотеку необходимо для этого подключить?\n",
        "Для проведения вычислений с действительными числами язык Питон содержит много дополнительных функций, собранных в библиотеку (модуль), которая называется math\n",
        " fabs() из подключаемой библиотеки math и встроенная функция abs()\n",
        "8. Какие из перечисленных идентификаторов нельзя использовать в качестве\n",
        "имен пользовательских переменных?\n",
        "_1_01, b100, int, double_1, _b200, MyVar, create-var, _1_01,\n",
        "_5elem, zo0, wodoo, UserCount, system_call, string, System.Double.\n",
        "\\\\\\ create-var, System.Double, _1_01, _1_01, _5elem, string\n",
        "9. Перечислите основные типы в Python.\n",
        "Numbers (числа)\n",
        "Strings (строки)\n",
        "Lists (списки)\n",
        "Dictionaries (словари)\n",
        "Tuples (кортежи)\n",
        "Sets (множества)\n",
        "Boolean (логический тип данных)\n"
      ],
      "metadata": {
        "id": "tShtFkMxJIx6"
      }
    }
  ]
}