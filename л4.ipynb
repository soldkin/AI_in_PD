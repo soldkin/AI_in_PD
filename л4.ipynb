{
  "nbformat": 4,
  "nbformat_minor": 0,
  "metadata": {
    "colab": {
      "provenance": [],
      "authorship_tag": "ABX9TyMvgGQK+26fpt/SXzsR4ggN",
      "include_colab_link": true
    },
    "kernelspec": {
      "name": "python3",
      "display_name": "Python 3"
    },
    "language_info": {
      "name": "python"
    }
  },
  "cells": [
    {
      "cell_type": "markdown",
      "metadata": {
        "id": "view-in-github",
        "colab_type": "text"
      },
      "source": [
        "<a href=\"https://colab.research.google.com/github/soldkin/AI_in_PD/blob/main/%D0%BB4.ipynb\" target=\"_parent\"><img src=\"https://colab.research.google.com/assets/colab-badge.svg\" alt=\"Open In Colab\"/></a>"
      ]
    },
    {
      "cell_type": "markdown",
      "source": [
        "# Практическая работа 4. Данные в формате CSV"
      ],
      "metadata": {
        "id": "C3DZeo7xi2HL"
      }
    },
    {
      "cell_type": "markdown",
      "source": [
        "ФИО: **Солдаткин Александр Алексеевич**\n",
        "\n",
        "Группа: **ПИН-б-о-22-1**"
      ],
      "metadata": {
        "id": "n7jQfObbnO6_"
      }
    },
    {
      "cell_type": "markdown",
      "source": [
        "## Анализ задания, получение данных"
      ],
      "metadata": {
        "id": "RGlwZaXQrAfd"
      }
    },
    {
      "cell_type": "markdown",
      "source": [
        "Файл data_v3.txt расположен репозитории. Выполним копирование файла в локальное хранилище Google Colab, используя следующую команду:"
      ],
      "metadata": {
        "id": "dusmGf0PoHeU"
      }
    },
    {
      "cell_type": "code",
      "execution_count": null,
      "metadata": {
        "id": "GRcewQyGh7dD",
        "colab": {
          "base_uri": "https://localhost:8080/"
        },
        "outputId": "ce3d9db6-5cf7-46ef-ee93-009d21c041bb"
      },
      "outputs": [
        {
          "output_type": "stream",
          "name": "stdout",
          "text": [
            "--2023-02-10 13:08:35--  https://raw.githubusercontent.com/enikolaev/IT-and-Programming/main/data/data_v3.csv\n",
            "Resolving raw.githubusercontent.com (raw.githubusercontent.com)... 185.199.108.133, 185.199.109.133, 185.199.110.133, ...\n",
            "Connecting to raw.githubusercontent.com (raw.githubusercontent.com)|185.199.108.133|:443... connected.\n",
            "HTTP request sent, awaiting response... 200 OK\n",
            "Length: 92780 (91K) [text/plain]\n",
            "Saving to: ‘data_v3.csv’\n",
            "\n",
            "data_v3.csv         100%[===================>]  90.61K  --.-KB/s    in 0.02s   \n",
            "\n",
            "2023-02-10 13:08:35 (5.58 MB/s) - ‘data_v3.csv’ saved [92780/92780]\n",
            "\n"
          ]
        }
      ],
      "source": [
        "!wget https://raw.githubusercontent.com/enikolaev/IT-and-Programming/main/data/data_v3.csv\n"
      ]
    },
    {
      "cell_type": "markdown",
      "source": [
        "Реализуем чтение всего файла построчно. Используем метод `open()`, а затем будем обходить файл как коллекцию с использованием цикла `for line in File`. Очевидно, что csv-файл используется в данной работе как обычный текстовый файл и в цикле `for` производится последовательный обход всех строк этого файла, то есть текстовый файл - это коллекция его строк.\n",
        "В файле много строк, поэтому будем выводить только первые `n_to_print` строк, но обрабатывать будем все (чтобы не возникло скрытых ошибок)"
      ],
      "metadata": {
        "id": "YlvR9gr-9qJY"
      }
    },
    {
      "cell_type": "code",
      "source": [
        "F=open('data_v3.csv')\n",
        "n_to_print=10\n",
        "for line in F:\n",
        "  n_to_print-=1\n",
        "  if n_to_print>0:\n",
        "    print(line)"
      ],
      "metadata": {
        "colab": {
          "base_uri": "https://localhost:8080/"
        },
        "id": "GzShFx3l0l49",
        "outputId": "4c23f3f7-3cb6-4360-d6b5-ec8fc8f63dd2"
      },
      "execution_count": null,
      "outputs": [
        {
          "output_type": "stream",
          "name": "stdout",
          "text": [
            "ID,LastName,FirstName,email,Plus,Minus,credit_card,Tax\n",
            "\n",
            "12-9321320,Pickle,Réjane,,$41564.80,$46160.22,3557725016917448,$16408.20\n",
            "\n",
            "14-4213773,Hartford,Léa,,$46310.29,$13116.21,3544948067779642,$13397.19\n",
            "\n",
            "92-0579703,Caldecott,Adélaïde,lcaldecott2@com.com,$44330.64,$9725.39,4508863396652307,$35768.27\n",
            "\n",
            "43-3066209,Dohrmann,Cloé,odohrmann3@gov.uk,$32271.10,$33467.96,6398709109212517,$3876.95\n",
            "\n",
            "39-1753452,Pes,Zhì,dpes4@trellian.com,$24467.01,$5220.55,3562917312487449,$5559.11\n",
            "\n",
            "98-1640163,Satyford,Pénélope,asatyford5@friendfeed.com,$31883.05,$11529.92,3564171803659243,$5939.26\n",
            "\n",
            "58-9143184,Corballis,Clémentine,scorballis6@mapquest.com,$25340.90,$3241.86,341075109903237,$45625.23\n",
            "\n",
            "87-3594410,Hiseman,Bénédicte,chiseman7@sciencedirect.com,$46081.76,$36954.21,3548420880126084,$19464.18\n",
            "\n"
          ]
        }
      ]
    },
    {
      "cell_type": "markdown",
      "source": [
        "Строки перебираются, но теперь необходимо разделить единую строку на отдельные элементы данных. Для этого выполним метод `split(sep)`, который разрезает строку, используя символ `sep` в качестве разделителя. Также обратим внимание на тот факт, что в первой строке содержатся не данные, а заголовки столбцов."
      ],
      "metadata": {
        "id": "7F4tUxgX1dwL"
      }
    },
    {
      "cell_type": "code",
      "source": [
        "# доработка предыдущего кода\n",
        "F=open('data_v3.csv')\n",
        "header = F.readline().strip().split(',')\n",
        "print(header)\n",
        "print('-'*20)\n",
        "n_to_print=10\n",
        "for line in F:\n",
        "  # производим обработку в любом случае ...\n",
        "  data = line.strip().split(',')\n",
        "  # ... аа печатаем только первые n_to_print\n",
        "  n_to_print-=1\n",
        "  if n_to_print>0:\n",
        "    print(data)"
      ],
      "metadata": {
        "colab": {
          "base_uri": "https://localhost:8080/"
        },
        "id": "MfetHR3Jfs9W",
        "outputId": "4b2d4bd6-8c79-4ebb-8add-815c1815d958"
      },
      "execution_count": null,
      "outputs": [
        {
          "output_type": "stream",
          "name": "stdout",
          "text": [
            "['ID', 'LastName', 'FirstName', 'email', 'Plus', 'Minus', 'credit_card', 'Tax']\n",
            "--------------------\n",
            "['12-9321320', 'Pickle', 'Réjane', '', '$41564.80', '$46160.22', '3557725016917448', '$16408.20']\n",
            "['14-4213773', 'Hartford', 'Léa', '', '$46310.29', '$13116.21', '3544948067779642', '$13397.19']\n",
            "['92-0579703', 'Caldecott', 'Adélaïde', 'lcaldecott2@com.com', '$44330.64', '$9725.39', '4508863396652307', '$35768.27']\n",
            "['43-3066209', 'Dohrmann', 'Cloé', 'odohrmann3@gov.uk', '$32271.10', '$33467.96', '6398709109212517', '$3876.95']\n",
            "['39-1753452', 'Pes', 'Zhì', 'dpes4@trellian.com', '$24467.01', '$5220.55', '3562917312487449', '$5559.11']\n",
            "['98-1640163', 'Satyford', 'Pénélope', 'asatyford5@friendfeed.com', '$31883.05', '$11529.92', '3564171803659243', '$5939.26']\n",
            "['58-9143184', 'Corballis', 'Clémentine', 'scorballis6@mapquest.com', '$25340.90', '$3241.86', '341075109903237', '$45625.23']\n",
            "['87-3594410', 'Hiseman', 'Bénédicte', 'chiseman7@sciencedirect.com', '$46081.76', '$36954.21', '3548420880126084', '$19464.18']\n",
            "['74-7031522', 'Easton', 'Mà', '', '$37139.51', '$14322.80', '3528412919441844', '$44003.80']\n"
          ]
        }
      ]
    },
    {
      "cell_type": "markdown",
      "source": [
        "Метод `split()` вернул список отдельных строк - полстрок исходной строки. Теперь необходимо сформировать структуру данных максимально полно описывающую предметную область.\n",
        "Для этого сформируем список словарей, то есть все данные в процессе чтения будем построчно перемещать в список `all_clients`, при этом каждый клиент будет представлен в виде словаря. Например первая строка в файле будет выглядеть следующим образом:\n",
        "\n",
        "`example = {'ID' : '12-9321320', 'LastName':'Pickle', 'FirstName':'Réjane', 'email':None, 'Plus':41564.80, 'Minus':46160.22, 'credit_card':'3557725016917448', 'Tax':16408.20}`"
      ],
      "metadata": {
        "id": "Ih9fLQW3gAYf"
      }
    },
    {
      "cell_type": "markdown",
      "source": [
        "то есть будет сформирована структура данных в которой все элементыы представляют собой пары вида `ключ` : `значение`, при этом как и в списке возможно обращение к элементамм данной структуры по индексу, только в словарях вместо целочисленного индекса используется ключ.\n",
        "Например, применительно к первой строке, обратиться к сумме поступления для ее печати можно следующим образом:\n",
        "\n",
        "`print( example['Plus'] )`"
      ],
      "metadata": {
        "id": "ujQ4VL6ukC3I"
      }
    },
    {
      "cell_type": "code",
      "source": [
        "# Доработаем предыдущий скрипт\n",
        "F=open('data_v3.csv')\n",
        "header = F.readline().strip().split(',')\n",
        "\n",
        "# список всех клиентов\n",
        "all_clients=[]\n",
        "\n",
        "for line in F:\n",
        "  data = line.strip().split(',')\n",
        "  client = {} # создаем пустой словарь\n",
        "  for i, key in enumerate(header): # обходим все заголовки\n",
        "    client[key] = data[i] # добавляем в словарь клюс:значение\n",
        "\n",
        "  # некоторые значения придется конвертировать к подходящим типам\n",
        "  client['Minus'] = float(client['Minus'][1:])\n",
        "  client['Plus'] = float(client['Plus'][1:])\n",
        "  client['Tax'] = float(client['Tax'][1:])\n",
        "\n",
        "  all_clients.append(client) # добавляем клиента в скписок\n",
        "\n",
        "print(all_clients[:10]) # напечатаем первых 10 клиентов\n",
        "\n",
        "F.close() # файл больше не нужен"
      ],
      "metadata": {
        "colab": {
          "base_uri": "https://localhost:8080/"
        },
        "id": "2cjhX1fQiQFO",
        "outputId": "ebf4c5b9-d0b2-476b-ad50-ac8805d4db26"
      },
      "execution_count": null,
      "outputs": [
        {
          "output_type": "stream",
          "name": "stdout",
          "text": [
            "[{'ID': '12-9321320', 'LastName': 'Pickle', 'FirstName': 'Réjane', 'email': '', 'Plus': 41564.8, 'Minus': 46160.22, 'credit_card': '3557725016917448', 'Tax': 16408.2}, {'ID': '14-4213773', 'LastName': 'Hartford', 'FirstName': 'Léa', 'email': '', 'Plus': 46310.29, 'Minus': 13116.21, 'credit_card': '3544948067779642', 'Tax': 13397.19}, {'ID': '92-0579703', 'LastName': 'Caldecott', 'FirstName': 'Adélaïde', 'email': 'lcaldecott2@com.com', 'Plus': 44330.64, 'Minus': 9725.39, 'credit_card': '4508863396652307', 'Tax': 35768.27}, {'ID': '43-3066209', 'LastName': 'Dohrmann', 'FirstName': 'Cloé', 'email': 'odohrmann3@gov.uk', 'Plus': 32271.1, 'Minus': 33467.96, 'credit_card': '6398709109212517', 'Tax': 3876.95}, {'ID': '39-1753452', 'LastName': 'Pes', 'FirstName': 'Zhì', 'email': 'dpes4@trellian.com', 'Plus': 24467.01, 'Minus': 5220.55, 'credit_card': '3562917312487449', 'Tax': 5559.11}, {'ID': '98-1640163', 'LastName': 'Satyford', 'FirstName': 'Pénélope', 'email': 'asatyford5@friendfeed.com', 'Plus': 31883.05, 'Minus': 11529.92, 'credit_card': '3564171803659243', 'Tax': 5939.26}, {'ID': '58-9143184', 'LastName': 'Corballis', 'FirstName': 'Clémentine', 'email': 'scorballis6@mapquest.com', 'Plus': 25340.9, 'Minus': 3241.86, 'credit_card': '341075109903237', 'Tax': 45625.23}, {'ID': '87-3594410', 'LastName': 'Hiseman', 'FirstName': 'Bénédicte', 'email': 'chiseman7@sciencedirect.com', 'Plus': 46081.76, 'Minus': 36954.21, 'credit_card': '3548420880126084', 'Tax': 19464.18}, {'ID': '74-7031522', 'LastName': 'Easton', 'FirstName': 'Mà', 'email': '', 'Plus': 37139.51, 'Minus': 14322.8, 'credit_card': '3528412919441844', 'Tax': 44003.8}, {'ID': '86-6585171', 'LastName': 'Biasotti', 'FirstName': 'Sòng', 'email': 'mbiasotti9@xrea.com', 'Plus': 48030.9, 'Minus': 31800.42, 'credit_card': '3558072029644498', 'Tax': 4110.14}]\n"
          ]
        }
      ]
    },
    {
      "cell_type": "markdown",
      "source": [
        "# Контрольные вопросы"
      ],
      "metadata": {
        "id": "JRIh2qs3mz4D"
      }
    },
    {
      "cell_type": "markdown",
      "source": [
        "Ответы на контрольные вопросы также необходимо предоставить в блокноте\n",
        "Python Notebook:\n",
        "1. Напишите код для печати суммы элементов списка p:\n",
        "p = [10, 100, 34, 56, 45, 45]\n",
        "2. Напишите код для печати количества элементов списка p:\n",
        "p = [10, 100, 34, 56, 45, 45]\n",
        "1. Напишите код для печати суммы элементов кратных 7:\n",
        "p = [10, 100, 35, 34, 56, 45, 45, 21]\n",
        "4. Напишите код для поиска ключей словаря d, для которых значения\n",
        "превышают 45:\n",
        "p = {4:10, 12:100, 35:3, 34:56, 56:11, 45:’abc’}\n",
        "5. Напишите код, который выводит список, составленный из квадратов чисел\n",
        "от 1 до 100. Сам список также необходимо сгенерировать.\n",
        "6. Опишите структуру файла csv. Поясните последовательность действий при\n",
        "чтении файла csv."
      ],
      "metadata": {
        "id": "N0BSKd_1m91y"
      }
    }
  ]
}