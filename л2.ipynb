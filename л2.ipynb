{
  "nbformat": 4,
  "nbformat_minor": 0,
  "metadata": {
    "colab": {
      "provenance": [],
      "authorship_tag": "ABX9TyPvZhSYQS/naGZ+o0ogOoSw",
      "include_colab_link": true
    },
    "kernelspec": {
      "name": "python3",
      "display_name": "Python 3"
    },
    "language_info": {
      "name": "python"
    }
  },
  "cells": [
    {
      "cell_type": "markdown",
      "metadata": {
        "id": "view-in-github",
        "colab_type": "text"
      },
      "source": [
        "<a href=\"https://colab.research.google.com/github/soldkin/AI_in_PD/blob/main/%D0%BB2.ipynb\" target=\"_parent\"><img src=\"https://colab.research.google.com/assets/colab-badge.svg\" alt=\"Open In Colab\"/></a>"
      ]
    },
    {
      "cell_type": "markdown",
      "source": [
        "# Практическая работа 2. Основные конструкции языка"
      ],
      "metadata": {
        "id": "C3DZeo7xi2HL"
      }
    },
    {
      "cell_type": "markdown",
      "source": [
        "Выполнил Солдаткин Александр Группа ПИН-б-о-22-1"
      ],
      "metadata": {
        "id": "sIYTjAxVRTKh"
      }
    },
    {
      "cell_type": "markdown",
      "source": [
        "## Задание"
      ],
      "metadata": {
        "id": "8wIyzax9q7JF"
      }
    },
    {
      "cell_type": "markdown",
      "source": [
        "Напишите скрипт для подсчета количества пар рядом стоящих\n",
        "четных целочисленных элементов в списке, состоящем из элементов\n",
        "произвольного типа. В каждой паре элементы должны иметь\n",
        "одинаковую четность."
      ],
      "metadata": {
        "id": "A1UMdzQGjFix"
      }
    },
    {
      "cell_type": "markdown",
      "source": [
        "## Решение задачи"
      ],
      "metadata": {
        "id": "JCG1FflCrJRE"
      }
    },
    {
      "cell_type": "code",
      "source": [
        "def count_even_pairs(lst):\n",
        "    count = 0\n",
        "    for i in range(len(lst) - 1):\n",
        "        # Проверяем, являются ли оба элемента четными и целыми числами\n",
        "        if isinstance(lst[i], int) and isinstance(lst[i + 1], int):\n",
        "            if lst[i] % 2 == 0 and lst[i + 1] % 2 == 0:\n",
        "                count += 1\n",
        "    return count\n",
        "\n",
        "# Пример использования\n",
        "example_list = [1, 2, 4, 'text', 6, 8, 3, 10, 12]\n",
        "result = count_even_pairs(example_list)\n",
        "print(f\"Количество пар рядом стоящих четных целочисленных элементов: {result}\")"
      ],
      "metadata": {
        "colab": {
          "base_uri": "https://localhost:8080/"
        },
        "id": "USvhY-IWnXaC",
        "outputId": "b7d6056c-3a8f-40d5-e519-502a7ce34b3e"
      },
      "execution_count": 1,
      "outputs": [
        {
          "output_type": "stream",
          "name": "stdout",
          "text": [
            "Количество пар рядом стоящих четных целочисленных элементов: 3\n"
          ]
        }
      ]
    },
    {
      "cell_type": "markdown",
      "source": [
        "В данной работе были использованы операторы `if` (условный оператор), `for ... in range(...)` (оператор цикла с обходом диапазона). Применялись функции `print()`, `type()`"
      ],
      "metadata": {
        "id": "kfm23877A4o2"
      }
    },
    {
      "cell_type": "markdown",
      "source": [
        "Контрольные вопросы"
      ],
      "metadata": {
        "id": "fFpysnP2S8Ps"
      }
    },
    {
      "cell_type": "markdown",
      "source": [
        "1. Какой оператор предназначен для многократного повторения блока кода?\n",
        "for\n",
        "2. Перечислите операторы, применяемые в работе скрипта из учебной задачи.\n",
        "if, for in range\n",
        "3. Перечислите параметры функции print( ). Опишите их назначение.\n",
        "objects — один или несколько объектов для вывода.\n",
        "sep — строка-разделитель между объектами. По умолчанию это пробел.\n",
        "end — строка, добавляемая после последнего объекта. ...\n",
        "file — объект, куда будет направлен вывод. ...\n",
        "flush — если True , то вывод будет происходить немедленно.\n",
        "4. Что такое список в языке Python?\n",
        " упорядоченный набор элементов, каждый из которых имеет свой номер, или индекс, позволяющий быстро получить к нему доступ.\n",
        "5. Объясните механизм обращения к элементам списка.\n",
        "Пишем название списка и в квадратных скобках индекс элемента списка.\n",
        "6. Поясните чем список отличается от массива (например в С++).\n",
        " При использовании связанного списка элементы могут размещаться где угодно в памяти\n",
        " При использовании массива элементы хранятся в памяти непрерывно, то есть рядом друг с другом.\n"
      ],
      "metadata": {
        "id": "hU60AauURbVA"
      }
    }
  ]
}