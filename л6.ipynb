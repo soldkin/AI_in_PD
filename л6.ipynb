{
  "nbformat": 4,
  "nbformat_minor": 0,
  "metadata": {
    "colab": {
      "provenance": [],
      "authorship_tag": "ABX9TyOSit3z3tYSjypbCnTNIRO4",
      "include_colab_link": true
    },
    "kernelspec": {
      "name": "python3",
      "display_name": "Python 3"
    },
    "language_info": {
      "name": "python"
    }
  },
  "cells": [
    {
      "cell_type": "markdown",
      "metadata": {
        "id": "view-in-github",
        "colab_type": "text"
      },
      "source": [
        "<a href=\"https://colab.research.google.com/github/soldkin/AI_in_PD/blob/main/%D0%BB6.ipynb\" target=\"_parent\"><img src=\"https://colab.research.google.com/assets/colab-badge.svg\" alt=\"Open In Colab\"/></a>"
      ]
    },
    {
      "cell_type": "markdown",
      "metadata": {
        "id": "C3DZeo7xi2HL"
      },
      "source": [
        "# Практическая работа 6. Работа с изображениями"
      ]
    },
    {
      "cell_type": "markdown",
      "source": [
        "Выполнил: Солдаткин Александр <br>\n",
        "Группа: ПИН-б-о-22-1"
      ],
      "metadata": {
        "id": "8ldL6wZKMhex"
      }
    },
    {
      "cell_type": "markdown",
      "metadata": {
        "id": "8wIyzax9q7JF"
      },
      "source": [
        "## Задание"
      ]
    },
    {
      "cell_type": "markdown",
      "metadata": {
        "id": "A1UMdzQGjFix"
      },
      "source": [
        "Изучите инструментарий библиотеки Pillow. Спроектируйте свой\n",
        "собственный фильтр. Продемонстрируйте его работу и поясните назначение\n",
        "предложенного фильтра"
      ]
    },
    {
      "cell_type": "markdown",
      "metadata": {
        "id": "RGlwZaXQrAfd"
      },
      "source": [
        "## Анализ задания, получение данных"
      ]
    },
    {
      "cell_type": "markdown",
      "metadata": {
        "id": "dusmGf0PoHeU"
      },
      "source": [
        "Выполним загрузку файла"
      ]
    },
    {
      "cell_type": "code",
      "execution_count": 1,
      "metadata": {
        "colab": {
          "base_uri": "https://localhost:8080/"
        },
        "id": "GRcewQyGh7dD",
        "outputId": "64ba2825-c2e8-4103-dec2-29d2d2d2173f"
      },
      "outputs": [
        {
          "output_type": "stream",
          "name": "stdout",
          "text": [
            "--2025-01-26 14:41:50--  https://github.com/enikolaev/IT-and-Programming/raw/main/data/pract11/cat.jpeg\n",
            "Resolving github.com (github.com)... 20.27.177.113\n",
            "Connecting to github.com (github.com)|20.27.177.113|:443... connected.\n",
            "HTTP request sent, awaiting response... 302 Found\n",
            "Location: https://raw.githubusercontent.com/enikolaev/IT-and-Programming/main/data/pract11/cat.jpeg [following]\n",
            "--2025-01-26 14:41:51--  https://raw.githubusercontent.com/enikolaev/IT-and-Programming/main/data/pract11/cat.jpeg\n",
            "Resolving raw.githubusercontent.com (raw.githubusercontent.com)... 185.199.108.133, 185.199.109.133, 185.199.110.133, ...\n",
            "Connecting to raw.githubusercontent.com (raw.githubusercontent.com)|185.199.108.133|:443... connected.\n",
            "HTTP request sent, awaiting response... 200 OK\n",
            "Length: 93715 (92K) [image/jpeg]\n",
            "Saving to: ‘cat.jpeg’\n",
            "\n",
            "cat.jpeg            100%[===================>]  91.52K  --.-KB/s    in 0.1s    \n",
            "\n",
            "2025-01-26 14:41:52 (801 KB/s) - ‘cat.jpeg’ saved [93715/93715]\n",
            "\n"
          ]
        }
      ],
      "source": [
        "!wget https://github.com/enikolaev/IT-and-Programming/raw/main/data/pract11/cat.jpeg\n"
      ]
    },
    {
      "cell_type": "code",
      "source": [
        "## Фильтр: \"Цветовой сдвиг\"\n",
        "\n",
        "## Этот фильтр сдвигает цвета изображения на определенное количество\n",
        "## единиц в заданном цветовом пространстве (RGB).\n",
        "\n",
        "from PIL import Image\n",
        "\n",
        "with Image.open('cat.jpeg') as img:\n",
        "  img.load()\n",
        "\n",
        "img.show()"
      ],
      "metadata": {
        "id": "DuNUiLv9NcP7"
      },
      "execution_count": 4,
      "outputs": []
    },
    {
      "cell_type": "code",
      "source": [
        "def color_shift(image, shift_r, shift_g, shift_b):\n",
        "\n",
        "  width, height = image.size\n",
        "  for x in range(width):\n",
        "    for y in range(height):\n",
        "      r, g, b = image.getpixel((x, y))\n",
        "      r = (r + shift_r) % 256  # Модуль для предотвращения переполнения\n",
        "      g = (g + shift_g) % 256\n",
        "      b = (b + shift_b) % 256\n",
        "      image.putpixel((x, y), (r, g, b))\n",
        "  return image\n",
        "\n",
        "image = Image.open(\"cat.jpeg\")\n",
        "shifted_image = color_shift(image.copy(), 50, -20, 10)  # Сдвиг цветов\n",
        "shifted_image.save(\"output.jpg\")  # Сохранение результата\n",
        "\n",
        "shifted_image.show()"
      ],
      "metadata": {
        "id": "xLPDH3wSQPr1"
      },
      "execution_count": 5,
      "outputs": []
    },
    {
      "cell_type": "markdown",
      "source": [
        "Назначение фильтра:\n",
        "\n",
        "Фильтр \"Цветовой сдвиг\" может быть использован для:\n",
        "\n",
        " Коррекции цветового баланса: Сдвиг цветов может использоваться для компенсации цветового баланса изображения, например, если изображение выглядит слишком красным или синим.\n",
        " Создание творческих эффектов: Сдвиг цветов может быть использован для создания уникальных цветовых палитр и художественных эффектов.\n",
        " Изменение настроения изображения: Например, сдвиг цветов в сторону синего может сделать изображение более холодным и спокойным.\n",
        "\n",
        "Примеры использования:\n",
        "\n",
        " Сдвиг цветов в сторону красного может сделать изображение более теплым и жизнерадостным.\n",
        " Сдвиг цветов в сторону зеленого может сделать изображение более естественным и ярким.\n",
        " Сдвиг цветов в сторону синего может сделать изображение более холодным и спокойным."
      ],
      "metadata": {
        "id": "su0V-rOlNyQ-"
      }
    },
    {
      "cell_type": "markdown",
      "metadata": {
        "id": "JRIh2qs3mz4D"
      },
      "source": [
        "# Контрольные вопросы"
      ]
    },
    {
      "cell_type": "markdown",
      "metadata": {
        "id": "N0BSKd_1m91y"
      },
      "source": [
        "1. Перечислите функции для трансформации изображения: вращение,\n",
        "обрезка и т.д.\n",
        " Масштабирование (Scale), Поворот (Rotate), Наклон (Skew), Искажение (Distort), Перспектива (Perspective) и Деформация (Warp).\n",
        "2. Поясните назначение метода convert(). Поясните возможные значения\n",
        "параметра данного метода.\n",
        "Метод `convert()` в библиотеке PIL (Pillow) в Python используется для преобразования изображения в другой цветовой режим. Он принимает один аргумент - режим преобразования, который может быть строкой или списком строк.\n",
        "3. Что такое фильтрация изображений? Приведите примеры практического\n",
        "применения фильтров.\n",
        "Фильтрация изображений - это процесс обработки изображения с помощью математических операций, называемых фильтрами. Эти фильтры модифицируют значения пикселей изображения, чтобы изменить его внешний вид или извлечь определенную информацию.\n",
        "Примеры практического применения:\n",
        "\n",
        " Обработка фотографий:\n",
        "     Размытие:  Создание эффекта глубины резкости, размытие фона.\n",
        "     Повышение резкости: Улучшение деталей, устранение размытости.\n",
        "     Коррекция цвета:  Изменение оттенков, яркости, контраста.\n",
        "4. Поясните формат изображения RGB.\n",
        "RGB (Red, Green, Blue) - это цветовая модель, используемая для представления цветов в цифровых изображениях. Она основана на том, что любой цвет может быть получен смешением красного, зеленого и синего цветов в определенных пропорциях.\n",
        "5. Поясните значение терминов: растр, формат изображения, палитра,\n",
        "глубина, разрешение изображения.\n",
        "Растр – это способ представления изображения как совокупности точек (пикселей), расположенных на плоскости. Каждая точка имеет определенный цвет и яркость.\n",
        " Формат изображения - это набор правил и спецификаций, определяющий, как хранить и обрабатывать цифровую информацию, представляющую изображение.\n",
        " Палитра - это набор цветов, которые могут быть использованы в изображении.\n",
        " Глубина цвета - это количество бит, используемых для хранения цвета каждого пикселя.\n",
        " Разрешение изображения - это количество пикселей, составляющих изображение по горизонтали и вертикали.\n"
      ]
    }
  ]
}