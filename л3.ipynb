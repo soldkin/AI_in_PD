{
  "nbformat": 4,
  "nbformat_minor": 0,
  "metadata": {
    "colab": {
      "provenance": [],
      "authorship_tag": "ABX9TyOczfa6O/Ei0jORZyGFp819",
      "include_colab_link": true
    },
    "kernelspec": {
      "name": "python3",
      "display_name": "Python 3"
    },
    "language_info": {
      "name": "python"
    }
  },
  "cells": [
    {
      "cell_type": "markdown",
      "metadata": {
        "id": "view-in-github",
        "colab_type": "text"
      },
      "source": [
        "<a href=\"https://colab.research.google.com/github/soldkin/AI_in_PD/blob/main/%D0%BB3.ipynb\" target=\"_parent\"><img src=\"https://colab.research.google.com/assets/colab-badge.svg\" alt=\"Open In Colab\"/></a>"
      ]
    },
    {
      "cell_type": "markdown",
      "source": [
        "# Практическая работа 3. Обработка данных из файла"
      ],
      "metadata": {
        "id": "C3DZeo7xi2HL"
      }
    },
    {
      "cell_type": "markdown",
      "source": [
        "Выполнил Солдаткин Александр Группа ПИН-б-о-22-1"
      ],
      "metadata": {
        "id": "n3SZfK7rWup_"
      }
    },
    {
      "cell_type": "markdown",
      "source": [
        "## Задание"
      ],
      "metadata": {
        "id": "8wIyzax9q7JF"
      }
    },
    {
      "cell_type": "markdown",
      "source": [
        "В файле data_v1.txt найдите количество заглавных букв, стоящих\n",
        "между двумя цифрами с разной четностью."
      ],
      "metadata": {
        "id": "LRKXmgEso-Gy"
      }
    },
    {
      "cell_type": "markdown",
      "source": [
        "## Анализ задания, получение данных"
      ],
      "metadata": {
        "id": "RGlwZaXQrAfd"
      }
    },
    {
      "cell_type": "markdown",
      "source": [
        "Файл data_v1.txt расположен репозитории. Выполним копирование файла в локальное хранилище Google Colab, используя следующую команду:"
      ],
      "metadata": {
        "id": "dusmGf0PoHeU"
      }
    },
    {
      "cell_type": "code",
      "execution_count": 1,
      "metadata": {
        "id": "GRcewQyGh7dD",
        "colab": {
          "base_uri": "https://localhost:8080/"
        },
        "outputId": "8cad6fbb-ca55-40e1-ff71-bc3ca13b80c7"
      },
      "outputs": [
        {
          "output_type": "stream",
          "name": "stdout",
          "text": [
            "--2025-01-26 12:45:16--  https://raw.githubusercontent.com/enikolaev/IT-and-Programming/main/data/data_v1.txt\n",
            "Resolving raw.githubusercontent.com (raw.githubusercontent.com)... 185.199.111.133, 185.199.108.133, 185.199.109.133, ...\n",
            "Connecting to raw.githubusercontent.com (raw.githubusercontent.com)|185.199.111.133|:443... connected.\n",
            "HTTP request sent, awaiting response... 200 OK\n",
            "Length: 100002 (98K) [text/plain]\n",
            "Saving to: ‘data_v1.txt’\n",
            "\n",
            "data_v1.txt         100%[===================>]  97.66K  --.-KB/s    in 0.02s   \n",
            "\n",
            "2025-01-26 12:45:17 (4.17 MB/s) - ‘data_v1.txt’ saved [100002/100002]\n",
            "\n"
          ]
        }
      ],
      "source": [
        "!wget https://raw.githubusercontent.com/enikolaev/IT-and-Programming/main/data/data_v1.txt\n"
      ]
    },
    {
      "cell_type": "markdown",
      "source": [
        "Можно скопировать и поместить файл с данными любым удобным способом"
      ],
      "metadata": {
        "id": "hupq--jq0PA3"
      }
    },
    {
      "cell_type": "markdown",
      "source": [
        "Реализуем чтение всего файла в строку с использованием метоа `open()` и `read()`:"
      ],
      "metadata": {
        "id": "YlvR9gr-9qJY"
      }
    },
    {
      "cell_type": "code",
      "source": [
        "f=open('data_v1.txt')\n",
        "s=f.read().strip()\n",
        "print(len(s))"
      ],
      "metadata": {
        "colab": {
          "base_uri": "https://localhost:8080/"
        },
        "id": "GzShFx3l0l49",
        "outputId": "05f60815-40a3-4159-dfae-0a048f9000e4"
      },
      "execution_count": 3,
      "outputs": [
        {
          "output_type": "stream",
          "name": "stdout",
          "text": [
            "100000\n"
          ]
        }
      ]
    },
    {
      "cell_type": "markdown",
      "source": [
        "Обратите внимание на использование методв `strip()`"
      ],
      "metadata": {
        "id": "7F4tUxgX1dwL"
      }
    },
    {
      "cell_type": "markdown",
      "source": [
        "## Обработка символьной последовательности"
      ],
      "metadata": {
        "id": "vq_Sojap2Crl"
      }
    },
    {
      "cell_type": "markdown",
      "source": [
        "Строки, подобно списка, являются коллекциями. Только в качестве элементов последовательности выступают символы. Для строк также используются функции нахождения длины `len()`, операция индексации `[]`"
      ],
      "metadata": {
        "id": "ph9AVTOp-etP"
      }
    },
    {
      "cell_type": "markdown",
      "source": [
        "Например, можно посимвольно обходить строку, используя цикл `for` и индекс строки:"
      ],
      "metadata": {
        "id": "HZUZu-Jx-zYn"
      }
    },
    {
      "cell_type": "code",
      "source": [
        "# Вывод первых 10 символов строки с одновременным анализом буква это или цифра\n",
        "for i in range(10):\n",
        "  c = s[i]\n",
        "  if c.isdigit():\n",
        "    t = 'цифра'\n",
        "  else:\n",
        "    t='буква'\n",
        "  print(c, t)"
      ],
      "metadata": {
        "colab": {
          "base_uri": "https://localhost:8080/"
        },
        "id": "FkMWXzXO2Ra2",
        "outputId": "fe63af4b-3350-42e3-9b8a-76394230092a"
      },
      "execution_count": 4,
      "outputs": [
        {
          "output_type": "stream",
          "name": "stdout",
          "text": [
            "Z буква\n",
            "S буква\n",
            "t буква\n",
            "M буква\n",
            "P буква\n",
            "i буква\n",
            "7 цифра\n",
            "c буква\n",
            "s буква\n",
            "i буква\n"
          ]
        }
      ]
    },
    {
      "cell_type": "markdown",
      "source": [
        "## Решение задачи"
      ],
      "metadata": {
        "id": "Xs4oLWFl2eGJ"
      }
    },
    {
      "cell_type": "code",
      "source": [
        "def count_uppercase_between_digits(filename):\n",
        "    count = 0\n",
        "\n",
        "    with open(filename, 'r') as file:\n",
        "        content = file.read()\n",
        "\n",
        "        for i in range(len(content) - 1):\n",
        "            if content[i].isdigit() and content[i + 1].isdigit():\n",
        "                # Проверяем четность цифр\n",
        "                if (int(content[i]) % 2) != (int(content[i + 1]) % 2):\n",
        "                    # Считаем заглавные буквы между цифрами\n",
        "                    for j in range(i + 1, i + 1 + (len(content) - i - 1)):\n",
        "                        if j >= len(content) or content[j].isdigit():\n",
        "                            break\n",
        "                        if content[j].isupper():\n",
        "                            count += 1\n",
        "\n",
        "    return count\n",
        "\n",
        "# Пример использования\n",
        "filename = 'data_v1.txt'\n",
        "result = count_uppercase_between_digits(filename)\n",
        "print(f\"Количество заглавных букв между цифрами с разной четностью: {result}\")"
      ],
      "metadata": {
        "colab": {
          "base_uri": "https://localhost:8080/"
        },
        "id": "89_c9E7-q-qC",
        "outputId": "8cb98e4a-47c8-4e50-e9fd-2b3ea5b5d370"
      },
      "execution_count": 5,
      "outputs": [
        {
          "output_type": "stream",
          "name": "stdout",
          "text": [
            "Количество заглавных букв между цифрами с разной четностью: 0\n"
          ]
        }
      ]
    },
    {
      "cell_type": "markdown",
      "source": [
        "В данной работе были использованы операторы `if` (условный оператор), `for ... in range(...)` (оператор цикла с обходом диапазона). Применялись функции `print()`, `len()`, `max()`. В работе использовался тип данных `dict()`"
      ],
      "metadata": {
        "id": "kfm23877A4o2"
      }
    },
    {
      "cell_type": "markdown",
      "source": [
        "Контрольные вопросы"
      ],
      "metadata": {
        "id": "Q2Shw8AAW5EH"
      }
    },
    {
      "cell_type": "markdown",
      "source": [
        "1. Что общего у строки и списка в Python?\n",
        " доступ к элементу по индексу и срезы\n",
        "2. Перечислите и охарактеризуйте функции класса str в Python.\n",
        "print(), len(), max(), strip(), upper() и тд\n",
        "3. Охарактеризуйте тип данных dict в Python.\n",
        "изменяемый контейнерный объект, который поддерживает поиск произвольных ключей\n",
        "4. Перечислите и опишите использование функций класса dict.\n",
        "изменяемый контейнерный объект, который поддерживает поиск произвольных ключей\n",
        "5. Опишите механизм чтения данных из текстового файла.\n",
        "Реализуем чтение всего файла в строку с использованием методов open() и read():\n",
        "6. Опишите назначение, сходства и различия функций чтения из текстового\n",
        "файла: read( ), readline( ), readlines( ).\n",
        "7. как прочитать многострочный текстовый файл не используя явно методы\n",
        "read( ), readline( ), readlines( )?\n",
        "read возвращает весь файл как одну строку, readline возвращает первую строку файла до символа новой строки, readlines возвращает список строк, каждая из которых представляет одну строку файла"
      ],
      "metadata": {
        "id": "sR8LSzceW85X"
      }
    }
  ]
}